{
 "cells": [
  {
   "cell_type": "code",
   "execution_count": 1,
   "metadata": {},
   "outputs": [],
   "source": [
    "import pandas as pd\n",
    "import numpy as np\n",
    "import matplotlib.pyplot as plt\n",
    "import seaborn as sns\n",
    "import math\n",
    "from sklearn import preprocessing\n",
    "from sklearn.linear_model import SGDRegressor\n",
    "from sklearn.model_selection import KFold\n",
    "from sklearn.model_selection import cross_val_score\n",
    "from sklearn.metrics import mean_squared_error, mean_squared_log_error\n",
    "from collections import namedtuple\n",
    "\n",
    "sns.set()"
   ]
  },
  {
   "cell_type": "code",
   "execution_count": 2,
   "metadata": {},
   "outputs": [],
   "source": [
    "pd.options.display.max_columns = 500"
   ]
  },
  {
   "cell_type": "code",
   "execution_count": 3,
   "metadata": {},
   "outputs": [],
   "source": [
    "train = pd.read_csv('../data/raw/train.csv')\n",
    "test = pd.read_csv('../data/raw/test.csv')\n",
    "sample_submission = pd.read_csv('../data/raw/sample_submission.csv')"
   ]
  },
  {
   "cell_type": "markdown",
   "metadata": {},
   "source": [
    "# Домашнее задание №1\n",
    "\n",
    "Ваша задача изучить как различные преобразования влияют на модель и итоговый результат. \n",
    "\n",
    "1) Для удобства написать функцию, которая реализовала бы кросс-валидацию. Данная функция принимает на вход данные и другие аргументы на выше усмотрение, на выходе скор на кроссвалидации и его стандартное отклонение.\n",
    "\n",
    "2) Сделать несколько различных моделей с различными признаками и способами обработки признаков.\n",
    "\n",
    "    1. Например в первой модели будут использованы  непрерывные признаки   ['metro_km_walk', 'kremlin_km', 'full_sq'] с заполненными пропусками\n",
    "    \n",
    "    2. Во второй модели нормируйте признаки из первой модели (std=1, mean = 0). Изменился ли результат? \n",
    "    \n",
    "    3. Во второй модели добавлены преобразованные различным образом категориальне признаки ['product_type' , 'sub_area' ] и т.д.\n",
    "    \n",
    "    4. В третьей добавлены datetime признаки \n",
    "    \n",
    "    5. И так далее. Попробуйте реализовать различные гипотезы\n",
    "\n",
    "3) Для каждой модели нужно сделать кросс-валидацию и засабмитить предсказание на тестовой выборке на кагл\n",
    "\n",
    "4) Построить график зависимости Leader board score от score на кросс-валидации для всех 5 моделей. \n",
    "\n",
    "5) Написать отчет с выводами. \n",
    "\n",
    "\n",
    "\n",
    "P.S. Не забудьте про то, что вы можете делать модель для предсказания price_m2, а итоговый результат подсчитывается по price_doc\n",
    "\n",
    "P.P.S.  Все преобразования, которые вы делаете нужно проделывать и с тестовой выборкой!\n",
    "\n",
    "P.P.P.S. Можно использовать готовые функции и преобразования из sklearn."
   ]
  },
  {
   "cell_type": "markdown",
   "metadata": {},
   "source": [
    "## Функция для кроссвалидации"
   ]
  },
  {
   "cell_type": "code",
   "execution_count": 4,
   "metadata": {},
   "outputs": [],
   "source": [
    "def cross_validate_score(data, features, target):\n",
    "    mse_list = []\n",
    "    msle_list = []\n",
    "    rmsle_list = []\n",
    "\n",
    "    kf = KFold(n_splits=5, shuffle=True)\n",
    "\n",
    "    for i, (train_index, val_index) in enumerate(kf.split(data)):\n",
    "        train_part = data.loc[train_index, :]\n",
    "        val_part = data.loc[val_index, :]\n",
    "\n",
    "        model = SGDRegressor()\n",
    "        model.fit(X=train_part[features], y=train_part[target])\n",
    "        val_prediction = model.predict(val_part[features]).clip(0, 1000000000)\n",
    "\n",
    "        mse = mean_squared_error(val_prediction, val_part[target])\n",
    "        mse_list.append(mse)\n",
    "        \n",
    "        msle = mean_squared_log_error(val_prediction, val_part[target])\n",
    "        msle_list.append(msle)\n",
    "\n",
    "        rmsle = math.sqrt(msle)\n",
    "        rmsle_list.append(rmsle)\n",
    "\n",
    "    Score = namedtuple('Score', ['mse_average', 'rmsle_average', 'msle_average', 'msle_std'])\n",
    "        \n",
    "    return Score(np.mean(mse_list), np.mean(rmsle_list), np.mean(msle_list), np.std(msle_list))"
   ]
  },
  {
   "cell_type": "markdown",
   "metadata": {},
   "source": [
    "## Строим модели и валидируем\n",
    "\n",
    "### Первая модель\n",
    "В первой модели будут использованы  непрерывные признаки   ['metro_km_walk', 'kremlin_km', 'full_sq'] с заполненными пропусками."
   ]
  },
  {
   "cell_type": "code",
   "execution_count": 5,
   "metadata": {},
   "outputs": [],
   "source": [
    "features = ['metro_km_walk', 'kremlin_km', 'full_sq']\n",
    "target = 'price_doc'\n",
    "\n",
    "train_data_1 = train.copy()\n",
    "train_data_1[features] = train_data_1[features].fillna(0)\n",
    "\n",
    "test_data_1 = test.copy()\n",
    "test_data_1 = test_data_1[features].fillna(0)\n",
    "\n",
    "test_data_1\n",
    "\n",
    "model1 = SGDRegressor()\n",
    "model1.fit(X=train_data_1[features], y=train_data_1[target])\n",
    "\n",
    "sample_submission[target] = model1.predict(test_data_1).clip(0, 1000000000)\n",
    "\n",
    "# Save model if needed\n",
    "# sample_submission.to_csv('predict_1.csv', index=False)"
   ]
  },
  {
   "cell_type": "code",
   "execution_count": 6,
   "metadata": {},
   "outputs": [
    {
     "name": "stdout",
     "output_type": "stream",
     "text": [
      "Model 1 ('metro_km_walk', 'kremlin_km', 'full_sq')\n",
      "Cross-validation: 9.328314709039825\n",
      "Kaggle: 0.64143\n"
     ]
    }
   ],
   "source": [
    "cross_score_1 = cross_validate_score(train_data_1, features, target).rmsle_average\n",
    "kaggle_score_1 = 0.64143\n",
    "\n",
    "print('Model 1 (\\'metro_km_walk\\', \\'kremlin_km\\', \\'full_sq\\')')\n",
    "print('Cross-validation: {0}\\nKaggle: {1}'.format(cross_score_1, kaggle_score_1))"
   ]
  },
  {
   "cell_type": "markdown",
   "metadata": {},
   "source": [
    "### Вторая модель\n",
    "Во второй модели будут использованы нормированные непрерывные признаки ['metro_km_walk', 'kremlin_km', 'full_sq'] с заполненными пропусками."
   ]
  },
  {
   "cell_type": "code",
   "execution_count": 7,
   "metadata": {},
   "outputs": [],
   "source": [
    "features = ['metro_km_walk', 'kremlin_km', 'full_sq']\n",
    "target = 'price_doc'\n",
    "\n",
    "mm_scaler = preprocessing.MinMaxScaler() # [0, 1]\n",
    "\n",
    "train_data_2 = train.copy()\n",
    "train_data_2[features] = mm_scaler.fit_transform(train_data_2[features].fillna(0))\n",
    "\n",
    "test_data_2 = test.copy()\n",
    "test_data_2[features] = mm_scaler.fit_transform(test_data_2[features].fillna(0))\n",
    "\n",
    "model2 = SGDRegressor()\n",
    "model2.fit(X=train_data_2[features], y=train_data_2[target])\n",
    "\n",
    "sample_submission[target] = model2.predict(test_data_2[features]).clip(0, 1000000000)\n",
    "\n",
    "# Save model if needed\n",
    "# sample_submission.to_csv('predict_2.csv', index=False)"
   ]
  },
  {
   "cell_type": "code",
   "execution_count": 8,
   "metadata": {},
   "outputs": [
    {
     "name": "stdout",
     "output_type": "stream",
     "text": [
      "Model 2 ('metro_km_walk', 'kremlin_km', 'full_sq')\n",
      "Cross-validation: 0.6057451979992212\n",
      "Kaggle: 0.6098\n"
     ]
    }
   ],
   "source": [
    "cross_score_2 = cross_validate_score(train_data_2, features, target).rmsle_average\n",
    "kaggle_score_2 = 0.60980\n",
    "\n",
    "print('Model 2 (\\'metro_km_walk\\', \\'kremlin_km\\', \\'full_sq\\')')\n",
    "print('Cross-validation: {0}\\nKaggle: {1}'.format(cross_score_2, kaggle_score_2))"
   ]
  },
  {
   "cell_type": "markdown",
   "metadata": {},
   "source": [
    "### Третья модель\n",
    "В третьей модели к второй модели добавлены преобразованные различным образом категориальные признаки ['product_type' , 'sub_area']."
   ]
  },
  {
   "cell_type": "code",
   "execution_count": 9,
   "metadata": {
    "scrolled": true
   },
   "outputs": [],
   "source": [
    "features = ['metro_km_walk', 'kremlin_km', 'full_sq', 'product_type' , 'sub_area']\n",
    "target = 'price_doc'\n",
    "\n",
    "train_data_3 = train_data_2.copy()\n",
    "train_data_3['price_m2'] = train_data_3['price_doc']/ (train_data_3['full_sq']+1)\n",
    "train_data_3['price_m2'].clip(train_data_3['price_m2'].quantile(0.01), train_data_3['price_m2'].quantile(0.99), inplace=True)\n",
    "train_data_3['product_type'] = train_data_3['product_type'].replace({'Investment':1,'OwnerOccupier':0})\n",
    "\n",
    "sub_area_target_encoding = train_data_3.groupby(['sub_area'])['price_m2'].mean()\n",
    "train_data_3['sub_area'] = train_data_3['sub_area'].replace(sub_area_target_encoding)\n",
    "\n",
    "test_data_3 = test_data_2.copy()\n",
    "test_data_3['product_type'] = test_data_3['product_type'].fillna(0).replace({'Investment':1,'OwnerOccupier':0})\n",
    "test_data_3['sub_area'] = test_data_3['sub_area'].replace(sub_area_target_encoding)\n",
    "\n",
    "model3 = SGDRegressor()\n",
    "model3.fit(X=train_data_3[features], y=train_data_3[target])\n",
    "\n",
    "sample_submission[target] = model3.predict(test_data_3[features]).clip(0, 1000000000)\n",
    "\n",
    "# Save model if needed\n",
    "# sample_submission.to_csv('predict_3.csv', index=False)"
   ]
  },
  {
   "cell_type": "code",
   "execution_count": 10,
   "metadata": {},
   "outputs": [
    {
     "name": "stdout",
     "output_type": "stream",
     "text": [
      "Model 3 ('metro_km_walk', 'kremlin_km', 'full_sq', 'product_type' , 'sub_area')\n",
      "Cross-validation: 7.240568458779658\n",
      "Kaggle: 5.04376\n"
     ]
    }
   ],
   "source": [
    "cross_score_3 = cross_validate_score(train_data_3, features, target).rmsle_average\n",
    "kaggle_score_3 = 5.04376\n",
    "\n",
    "print('Model 3 (\\'metro_km_walk\\', \\'kremlin_km\\', \\'full_sq\\', \\'product_type\\' , \\'sub_area\\')')\n",
    "print('Cross-validation: {0}\\nKaggle: {1}'.format(cross_score_3, kaggle_score_3))"
   ]
  },
  {
   "cell_type": "markdown",
   "metadata": {},
   "source": [
    "### Четвёртая модель\n",
    "В чётвертой модели к третьей модели добавлен datetime признак ['timestamp']."
   ]
  },
  {
   "cell_type": "code",
   "execution_count": 11,
   "metadata": {},
   "outputs": [],
   "source": [
    "def get_date_time_features(timestamp_series: pd.Series) -> pd.DataFrame:\n",
    "    timestamp_series = pd.to_datetime(timestamp_series,format='%Y-%m-%d')\n",
    "\n",
    "    output= pd.DataFrame()\n",
    "    output['timestamp']= timestamp_series\n",
    "    output['month'] = timestamp_series.dt.month.astype(np.int8)\n",
    "    output['day_week'] = timestamp_series.dt.dayofweek.astype(np.int8)\n",
    "    output['day_month_datetime'] =timestamp_series.dt.day.astype(np.int8)\n",
    "    output['year'] = timestamp_series.dt.year.astype(np.int16)\n",
    "    output['seconds'] = timestamp_series.astype(int)/1_000_000_000_000 \n",
    "\n",
    "    return output"
   ]
  },
  {
   "cell_type": "code",
   "execution_count": 12,
   "metadata": {},
   "outputs": [
    {
     "name": "stderr",
     "output_type": "stream",
     "text": [
      "/var/folders/9k/n4yjmb4j2y141ms03qrz3q680000gn/T/ipykernel_55164/2011329045.py:10: FutureWarning: casting datetime64[ns] values to int64 with .astype(...) is deprecated and will raise in a future version. Use .view(...) instead.\n",
      "  output['seconds'] = timestamp_series.astype(int)/1_000_000_000_000\n"
     ]
    }
   ],
   "source": [
    "features = ['metro_km_walk', 'kremlin_km', 'full_sq', 'product_type' , 'sub_area', 'month', 'day_week', 'day_month_datetime', 'year', 'seconds']\n",
    "target = 'price_doc'\n",
    "\n",
    "train_data_4 = train_data_3.copy()\n",
    "train_data_4 = pd.concat([train_data_4, get_date_time_features(train_data_4['timestamp'])], axis=1)\n",
    "train_data_4\n",
    "\n",
    "test_data_4 = test_data_3.copy()\n",
    "test_data_4 = pd.concat([test_data_4, get_date_time_features(test_data_4['timestamp'])], axis=1)\n",
    "\n",
    "model4 = SGDRegressor()\n",
    "model4.fit(X=train_data_4[features], y=train_data_4[target])\n",
    "\n",
    "sample_submission[target] = model4.predict(test_data_4[features]).clip(0, 1000000000)\n",
    "\n",
    "# Save model if needed\n",
    "# sample_submission.to_csv('predict_4.csv', index=False)"
   ]
  },
  {
   "cell_type": "code",
   "execution_count": 13,
   "metadata": {},
   "outputs": [
    {
     "name": "stdout",
     "output_type": "stream",
     "text": [
      "Model 4 ('metro_km_walk', 'kremlin_km', 'full_sq', 'product_type' , 'sub_area', 'timestamp')\n",
      "Cross-validation: 13.526807947773667\n",
      "Kaggle: 10.70268\n"
     ]
    }
   ],
   "source": [
    "cross_score_4 = cross_validate_score(train_data_4, features, target).rmsle_average\n",
    "kaggle_score_4 = 10.70268\n",
    "\n",
    "print('Model 4 (\\'metro_km_walk\\', \\'kremlin_km\\', \\'full_sq\\', \\'product_type\\' , \\'sub_area\\', \\'timestamp\\')')\n",
    "print('Cross-validation: {0}\\nKaggle: {1}'.format(cross_score_4, kaggle_score_4))"
   ]
  },
  {
   "cell_type": "markdown",
   "metadata": {},
   "source": [
    "### Пятая модель\n",
    "В пятой модели к четвертой модели добавлен признак ['green_zone_part']."
   ]
  },
  {
   "cell_type": "code",
   "execution_count": 14,
   "metadata": {},
   "outputs": [],
   "source": [
    "features = ['metro_km_walk', 'kremlin_km', 'full_sq', 'product_type' , 'sub_area', 'month', 'day_week', 'day_month_datetime', 'year', 'seconds', 'green_zone_part']\n",
    "target = 'price_doc'\n",
    "\n",
    "train_data_5 = train_data_4.copy()\n",
    "test_data_5 = test_data_4.copy()\n",
    "\n",
    "model5 = SGDRegressor()\n",
    "model5.fit(X=train_data_5[features], y=train_data_5[target])\n",
    "\n",
    "sample_submission[target] = model5.predict(test_data_5[features]).clip(0, 1000000000)\n",
    "\n",
    "# Save model if needed\n",
    "# sample_submission.to_csv('predict_5.csv', index=False)"
   ]
  },
  {
   "cell_type": "code",
   "execution_count": 15,
   "metadata": {},
   "outputs": [
    {
     "name": "stdout",
     "output_type": "stream",
     "text": [
      "Model 5 ('metro_km_walk', 'kremlin_km', 'full_sq', 'product_type' , 'sub_area', 'timestamp', 'green_zone_part')\n",
      "Cross-validation: 9.360759714469483\n",
      "Kaggle: 6.29437\n"
     ]
    }
   ],
   "source": [
    "cross_score_5 = cross_validate_score(train_data_5, features, target).rmsle_average\n",
    "kaggle_score_5 = 6.29437\n",
    "\n",
    "print('Model 5 (\\'metro_km_walk\\', \\'kremlin_km\\', \\'full_sq\\', \\'product_type\\' , \\'sub_area\\', \\'timestamp\\', \\'green_zone_part\\')')\n",
    "print('Cross-validation: {0}\\nKaggle: {1}'.format(cross_score_5, kaggle_score_5))"
   ]
  },
  {
   "cell_type": "markdown",
   "metadata": {},
   "source": [
    "## Сравнение и график"
   ]
  },
  {
   "cell_type": "code",
   "execution_count": 16,
   "metadata": {},
   "outputs": [
    {
     "data": {
      "image/png": "[encoded data removed]",
      "text/plain": [
       "<Figure size 432x288 with 1 Axes>"
      ]
     },
     "metadata": {},
     "output_type": "display_data"
    }
   ],
   "source": [
    "x = [cross_score_1, cross_score_2, cross_score_3, cross_score_4, cross_score_5]\n",
    "y = [kaggle_score_1, kaggle_score_2, kaggle_score_3, kaggle_score_4, kaggle_score_5]\n",
    "\n",
    "plt.title('Public Kaggle Score')\n",
    "plt.plot(x, y, 'ro')\n",
    "plt.show()"
   ]
  },
  {
   "cell_type": "markdown",
   "metadata": {},
   "source": [
    "В качестве выводов наверное логично сказать, что с ростом score кросс-валидации растет значение score на Kaggle и в принципе это видно по графику. "
   ]
  }
 ],
 "metadata": {
  "kernelspec": {
   "display_name": "Python 3 (ipykernel)",
   "language": "python",
   "name": "python3"
  },
  "language_info": {
   "codemirror_mode": {
    "name": "ipython",
    "version": 3
   },
   "file_extension": ".py",
   "mimetype": "text/x-python",
   "name": "python",
   "nbconvert_exporter": "python",
   "pygments_lexer": "ipython3",
   "version": "3.8.9"
  }
 },
 "nbformat": 4,
 "nbformat_minor": 1
}
